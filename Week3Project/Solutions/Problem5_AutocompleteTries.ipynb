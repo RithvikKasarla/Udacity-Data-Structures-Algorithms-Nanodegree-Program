{
 "cells": [
  {
   "cell_type": "markdown",
   "source": [
    "# Building a Trie in Python\n",
    "\n",
    "Before we start let us reiterate the key components of a Trie or Prefix Tree. A trie is a tree-like data structure that stores a dynamic set of strings. Tries are commonly used to facilitate operations like predictive text or autocomplete features on mobile phones or web search.\n",
    "\n",
    "Before we move into the autocomplete function we need to create a working trie for storing strings.  We will create two classes:\n",
    "* A `Trie` class that contains the root node (empty string)\n",
    "* A `TrieNode` class that exposes the general functionality of the Trie, like inserting a word or finding the node which represents a prefix.\n",
    "\n",
    "Give it a try by implementing the `TrieNode` and `Trie` classes below!"
   ],
   "metadata": {}
  },
  {
   "cell_type": "code",
   "execution_count": 17,
   "source": [
    "## Represents a single node in the Trie\r\n",
    "class TrieNode:\r\n",
    "    def __init__(self):\r\n",
    "        ## Initialize this node in the Trie\r\n",
    "        self.children = {}\r\n",
    "        self.isWord = False\r\n",
    "    def insert(self, char):\r\n",
    "        ## Add a child node in this Trie\r\n",
    "        if char not in self.children:\r\n",
    "            self.children[char] = TrieNode()\r\n",
    "        else:\r\n",
    "            pass\r\n",
    "\r\n",
    "## The Trie itself containing the root node and insert/find functions\r\n",
    "class Trie:\r\n",
    "    def __init__(self):\r\n",
    "        ## Initialize this Trie (add a root node)\r\n",
    "        self.root = TrieNode()\r\n",
    "        \r\n",
    "    def insert(self, word):\r\n",
    "        ## Add a word to the Trie\r\n",
    "        cur = self.root\r\n",
    "        \r\n",
    "        for char in word:\r\n",
    "            if char in cur.children:\r\n",
    "                cur = cur.children[char]\r\n",
    "            else:\r\n",
    "                cur.insert(char)\r\n",
    "                cur = cur.children[char]\r\n",
    "        cur.isWord = True\r\n",
    "        \r\n",
    "    def find(self, prefix):\r\n",
    "        ## Find the Trie node that represents this prefix\r\n",
    "        cur = self.root\r\n",
    "        for char in prefix:\r\n",
    "            if char not in cur.children:\r\n",
    "                return None\r\n",
    "            else:\r\n",
    "                cur = cur.children[char]\r\n",
    "        return cur"
   ],
   "outputs": [],
   "metadata": {}
  },
  {
   "cell_type": "markdown",
   "source": [
    "# Finding Suffixes\n",
    "\n",
    "Now that we have a functioning Trie, we need to add the ability to list suffixes to implement our autocomplete feature.  To do that, we need to implement a new function on the `TrieNode` object that will return all complete word suffixes that exist below it in the trie.  For example, if our Trie contains the words `[\"fun\", \"function\", \"factory\"]` and we ask for suffixes from the `f` node, we would expect to receive `[\"un\", \"unction\", \"actory\"]` back from `node.suffixes()`.\n",
    "\n",
    "Using the code you wrote for the `TrieNode` above, try to add the suffixes function below. (Hint: recurse down the trie, collecting suffixes as you go.)"
   ],
   "metadata": {}
  },
  {
   "cell_type": "code",
   "execution_count": 27,
   "source": [
    "class TrieNode:\r\n",
    "    def __init__(self):\r\n",
    "        ## Initialize this node in the Trie\r\n",
    "        self.children = {}\r\n",
    "        self.isWord = False\r\n",
    "    \r\n",
    "    def insert(self, char):\r\n",
    "        ## Add a child node in this Trie\r\n",
    "        if char not in self.children:\r\n",
    "            self.children[char] = TrieNode()\r\n",
    "        else:\r\n",
    "            pass\r\n",
    "        \r\n",
    "    def suffixes(self, suffix = ''):\r\n",
    "        ## Recursive function that collects the suffix for \r\n",
    "        ## all complete words below this point\r\n",
    "        words = []\r\n",
    "        if self.isWord:\r\n",
    "            words.append(suffix)\r\n",
    "            \r\n",
    "        for char in self.children:\r\n",
    "            words += (self.children[char].suffixes(suffix + char))\r\n",
    "        return words\r\n",
    "            "
   ],
   "outputs": [],
   "metadata": {}
  },
  {
   "cell_type": "markdown",
   "source": [
    "# Testing it all out\n",
    "\n",
    "Run the following code to add some words to your trie and then use the interactive search box to see what your code returns."
   ],
   "metadata": {}
  },
  {
   "cell_type": "code",
   "execution_count": 28,
   "source": [
    "MyTrie = Trie()\r\n",
    "wordList = [\r\n",
    "    \"ant\", \"anthology\", \"antagonist\", \"antonym\", \r\n",
    "    \"fun\", \"function\", \"factory\", \r\n",
    "    \"trie\", \"trigger\", \"trigonometry\", \"tripod\"\r\n",
    "]\r\n",
    "for word in wordList:\r\n",
    "    MyTrie.insert(word)"
   ],
   "outputs": [],
   "metadata": {}
  },
  {
   "cell_type": "code",
   "execution_count": null,
   "source": [
    "from ipywidgets import widgets\r\n",
    "from IPython.display import display\r\n",
    "from ipywidgets import interact\r\n",
    "def f(prefix):\r\n",
    "    if prefix != '':\r\n",
    "        prefixNode = MyTrie.find(prefix)\r\n",
    "        if prefixNode:\r\n",
    "            print('\\n'.join(prefixNode.suffixes()))\r\n",
    "        else:\r\n",
    "            print(prefix + \" not found\")\r\n",
    "    else:\r\n",
    "        print('')\r\n",
    "interact(f,prefix='');"
   ],
   "outputs": [
    {
     "output_type": "display_data",
     "data": {
      "text/plain": [
       "interactive(children=(Text(value='', description='prefix'), Output()), _dom_classes=('widget-interact',))"
      ],
      "text/html": [
       "<p>Failed to display Jupyter Widget of type <code>interactive</code>.</p>\n",
       "<p>\n",
       "  If you're reading this message in the Jupyter Notebook or JupyterLab Notebook, it may mean\n",
       "  that the widgets JavaScript is still loading. If this message persists, it\n",
       "  likely means that the widgets JavaScript library is either not installed or\n",
       "  not enabled. See the <a href=\"https://ipywidgets.readthedocs.io/en/stable/user_install.html\">Jupyter\n",
       "  Widgets Documentation</a> for setup instructions.\n",
       "</p>\n",
       "<p>\n",
       "  If you're reading this message in another frontend (for example, a static\n",
       "  rendering on GitHub or <a href=\"https://nbviewer.jupyter.org/\">NBViewer</a>),\n",
       "  it may mean that your frontend doesn't currently support widgets.\n",
       "</p>\n"
      ],
      "application/vnd.jupyter.widget-view+json": {
       "model_id": "43f14d9ee23f4aff97254cb65c30dbc8",
       "version_major": 2,
       "version_minor": 0
      }
     },
     "metadata": {}
    }
   ],
   "metadata": {}
  },
  {
   "cell_type": "code",
   "execution_count": null,
   "source": [],
   "outputs": [],
   "metadata": {}
  }
 ],
 "metadata": {
  "kernelspec": {
   "name": "python3",
   "display_name": "Python 3.10.0b3 64-bit"
  },
  "language_info": {
   "codemirror_mode": {
    "name": "ipython",
    "version": 3
   },
   "file_extension": ".py",
   "mimetype": "text/x-python",
   "name": "python",
   "nbconvert_exporter": "python",
   "pygments_lexer": "ipython3",
   "version": "3.10.0"
  },
  "widgets": {
   "state": {},
   "version": "1.1.2"
  },
  "interpreter": {
   "hash": "2be5faf79681da6f2a61fdfdd5405d65d042280f7fba6178067603e3a2925119"
  }
 },
 "nbformat": 4,
 "nbformat_minor": 2
}